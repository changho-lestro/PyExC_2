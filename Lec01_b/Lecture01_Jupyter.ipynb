{
 "cells": [
  {
   "metadata": {},
   "cell_type": "markdown",
   "source": [
    "# This is heading 1\n",
    "## This is heading 2\n",
    "### This is heading 3"
   ],
   "id": "e7482a8e4cacb14"
  },
  {
   "metadata": {
    "ExecuteTime": {
     "end_time": "2025-07-08T21:19:36.715804Z",
     "start_time": "2025-07-08T21:19:36.710457Z"
    }
   },
   "cell_type": "code",
   "source": "1+2",
   "id": "d7c03f57b36e8637",
   "outputs": [
    {
     "data": {
      "text/plain": [
       "3"
      ]
     },
     "execution_count": 3,
     "metadata": {},
     "output_type": "execute_result"
    }
   ],
   "execution_count": 3
  },
  {
   "metadata": {},
   "cell_type": "markdown",
   "source": "This is a paragraph with **bold** and *italic* text.\n",
   "id": "65ea152c047274b6"
  },
  {
   "metadata": {},
   "cell_type": "markdown",
   "source": [
    "* This is a bullet point\n",
    "* This is another bullet point\n",
    "    * This is a sub-bullet point\n",
    "        * This is a sub-sub-bullet point"
   ],
   "id": "e2277f873b6c80e6"
  },
  {
   "metadata": {},
   "cell_type": "markdown",
   "source": "",
   "id": "6e58f3b9669e5863"
  },
  {
   "metadata": {
    "ExecuteTime": {
     "end_time": "2025-07-08T21:24:39.483721Z",
     "start_time": "2025-07-08T21:24:39.480156Z"
    }
   },
   "cell_type": "code",
   "source": "print(\"Hello, World!\")",
   "id": "fd6a0b4a641ef283",
   "outputs": [
    {
     "name": "stdout",
     "output_type": "stream",
     "text": [
      "Hello, World!\n"
     ]
    }
   ],
   "execution_count": 4
  },
  {
   "metadata": {
    "ExecuteTime": {
     "end_time": "2025-07-08T21:52:31.534146Z",
     "start_time": "2025-07-08T21:52:31.530677Z"
    }
   },
   "cell_type": "code",
   "source": [
    "print(\"A\")  # This line is to print out \"A\"\n",
    "#print(\"B\")\n",
    "print(\"C\")\n",
    "print(\"D\")\n",
    "print(\"E\")"
   ],
   "id": "ccb821e249665c2",
   "outputs": [
    {
     "name": "stdout",
     "output_type": "stream",
     "text": [
      "A\n",
      "C\n",
      "D\n",
      "E\n"
     ]
    }
   ],
   "execution_count": 9
  },
  {
   "metadata": {},
   "cell_type": "markdown",
   "source": [
    "```Python\n",
    "str = \"This is block level code\"\n",
    "print(str)\n",
    "```"
   ],
   "id": "279a444843a0d6a0"
  }
 ],
 "metadata": {
  "kernelspec": {
   "display_name": "Python [conda env:base] *",
   "language": "python",
   "name": "conda-base-py"
  },
  "language_info": {
   "codemirror_mode": {
    "name": "ipython",
    "version": 2
   },
   "file_extension": ".py",
   "mimetype": "text/x-python",
   "name": "python",
   "nbconvert_exporter": "python",
   "pygments_lexer": "ipython2",
   "version": "2.7.6"
  }
 },
 "nbformat": 4,
 "nbformat_minor": 5
}
