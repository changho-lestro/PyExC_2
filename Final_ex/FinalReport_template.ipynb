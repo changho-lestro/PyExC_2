{
 "cells": [
  {
   "metadata": {},
   "cell_type": "markdown",
   "source": "# [Project Title]",
   "id": "59ba26b56b8a24c3"
  },
  {
   "metadata": {},
   "cell_type": "markdown",
   "source": [
    "**Name**: Changho Lee\n",
    "**Afflication**: Geospatial Information Science, University of Texas at Dallas\n",
    "**Date**: August 7, 2025\n",
    "**GitHub Repository Link**: https://github.com/changho-lestro/PyExC_2\n",
    "[Note: repository URL format is https://github.com/[username]/[repository_name] while the repo webpage URL format is https://[username].github.io/[repository_name]/]"
   ],
   "id": "4fa1eaa60738748d"
  },
  {
   "metadata": {},
   "cell_type": "markdown",
   "source": [
    "### Abstract\n",
    "<pre> Add summary of your project here. </pre>\n",
    "\n",
    "### Table of Contents (You may customize the structure to match your narrative flow.)\n",
    "1. Introduction (Required)\n",
    "2. Data (Required)\n",
    "3. Methodology\n",
    "4. Results (Required)\n",
    "5. Discussion\n",
    "6. Conclusion (Required)\n",
    "7. References (if applicable)"
   ],
   "id": "48ccbd63b5903678"
  },
  {
   "metadata": {},
   "cell_type": "markdown",
   "source": [
    "## 1. Introduction\n",
    "### 1.1 Background/context\n",
    "[Provide a brief background or context for your project. Explain the significance of the topic and any relevant information that sets the stage for your analysis.]\n",
    "### 1.2 Purpose of the analysis\n",
    "[Explain the purpose of your analysis, what you aim to achieve, and why it is important.]\n",
    "### 1.3 Research questions or objectives (if applicable)\n",
    "[State the specific research questions or objectives you are addressing in this project.]"
   ],
   "id": "6a9503f5798e76e7"
  },
  {
   "metadata": {},
   "cell_type": "markdown",
   "source": [
    "## 2. Data (Required)\n",
    "### 2.1 Data Description\n",
    "* Source(s) of data:\n",
    "* Type of data (quantitative, qualitative, time series, spatial, etc.):\n",
    "* Variables overview\n",
    "* Data collection methods"
   ],
   "id": "4fcf07b0683c38eb"
  },
  {
   "metadata": {},
   "cell_type": "markdown",
   "source": [
    "### 2.2. Data exploration or descriptive stats\n",
    "[Provide an overview of the data, including any descriptive statistics, visualizations, or initial observations that help understand the dataset. This section can include tables, charts, or graphs to illustrate key points.]\n",
    "[Also, Show your code by adding the code block below. You can use Markdown to format your code for better readability.]"
   ],
   "id": "bb4e0b287dfa39a5"
  },
  {
   "metadata": {},
   "cell_type": "markdown",
   "source": [
    "## 3. Methodology\n",
    "* Data cleaning and preprocessing steps (See Lecture 5 and Lab 5)\n",
    "* (if applicable) Analytical methods or techniques used (e.g., statistical analysis, machine learning, etc.)\n",
    "* Functions or Tools used for analysis (e.g., Python libraries, your own modules or functions, etc. You can recycle the oucomes of midterm project.)"
   ],
   "id": "8b96f9b66b8cd475"
  },
  {
   "metadata": {},
   "cell_type": "markdown",
   "source": [
    "## 4. Results\n",
    "[Add code blocks and markdown blocks to show your results effectively. You can use Markdown to format your results for better readability. Include tables, charts, or graphs to illustrate key findings.]\n",
    "[You can also make subsections to organize your results, such as \"4.1 Key Findings\" or \"4.2 Visualizations\".]"
   ],
   "id": "17a1f422f4b576f0"
  },
  {
   "metadata": {},
   "cell_type": "markdown",
   "source": [
    "## 5. Discussion\n",
    "* Interpretation of results\n",
    "* Insights or patterns discovered\n",
    "* Implications for the business, research, or policy\n",
    "* Comparison to past data or benchmarks (if applicable)\n",
    "* Limitations of the analysis"
   ],
   "id": "1260ae85914991e9"
  },
  {
   "metadata": {},
   "cell_type": "markdown",
   "source": [
    "## 6. Conclusion\n",
    "* Recap of goals and findings\n",
    "* Main takeaway points\n",
    "* Recommendations for action or further analysis in the future"
   ],
   "id": "3a153e21905f2208"
  },
  {
   "metadata": {},
   "cell_type": "markdown",
   "source": "## 7. References (if applicable)",
   "id": "3231086e6c3c3dd4"
  }
 ],
 "metadata": {
  "kernelspec": {
   "display_name": "Python 3",
   "language": "python",
   "name": "python3"
  },
  "language_info": {
   "codemirror_mode": {
    "name": "ipython",
    "version": 2
   },
   "file_extension": ".py",
   "mimetype": "text/x-python",
   "name": "python",
   "nbconvert_exporter": "python",
   "pygments_lexer": "ipython2",
   "version": "2.7.6"
  }
 },
 "nbformat": 4,
 "nbformat_minor": 5
}
