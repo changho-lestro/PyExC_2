{
 "cells": [
  {
   "metadata": {},
   "cell_type": "markdown",
   "source": "# Data Type Exercise",
   "id": "c610e2bfe6c6d2df"
  },
  {
   "metadata": {},
   "cell_type": "markdown",
   "source": "## String data type",
   "id": "a218b6ba3d446af4"
  },
  {
   "metadata": {
    "ExecuteTime": {
     "end_time": "2025-07-10T19:15:53.900878Z",
     "start_time": "2025-07-10T19:15:53.896667Z"
    }
   },
   "cell_type": "code",
   "source": [
    "str_x = \"Hello, World!\"\n",
    "print(str_x)"
   ],
   "id": "918b9b01a908138f",
   "outputs": [
    {
     "name": "stdout",
     "output_type": "stream",
     "text": [
      "Hello, World!\n"
     ]
    }
   ],
   "execution_count": 1
  },
  {
   "metadata": {},
   "cell_type": "markdown",
   "source": "## Integer data type",
   "id": "960e1b1672ac40d1"
  },
  {
   "metadata": {
    "ExecuteTime": {
     "end_time": "2025-07-10T19:18:09.712260Z",
     "start_time": "2025-07-10T19:18:09.709485Z"
    }
   },
   "cell_type": "code",
   "source": [
    "int_x = int(20)\n",
    "print(int_x)"
   ],
   "id": "3fd99324b09343d3",
   "outputs": [
    {
     "name": "stdout",
     "output_type": "stream",
     "text": [
      "20\n"
     ]
    }
   ],
   "execution_count": 3
  },
  {
   "metadata": {},
   "cell_type": "markdown",
   "source": "## Float data type",
   "id": "c78df9c84bf09abf"
  },
  {
   "metadata": {
    "ExecuteTime": {
     "end_time": "2025-07-10T19:18:47.087149Z",
     "start_time": "2025-07-10T19:18:47.084536Z"
    }
   },
   "cell_type": "code",
   "source": [
    "float_x = 20.5\n",
    "print(float_x)"
   ],
   "id": "a57d4efa8f116d43",
   "outputs": [
    {
     "name": "stdout",
     "output_type": "stream",
     "text": [
      "20.5\n"
     ]
    }
   ],
   "execution_count": 4
  },
  {
   "metadata": {},
   "cell_type": "markdown",
   "source": "## Boolean data type",
   "id": "aa448f24c531e45a"
  },
  {
   "metadata": {
    "ExecuteTime": {
     "end_time": "2025-07-10T19:19:34.270401Z",
     "start_time": "2025-07-10T19:19:34.267599Z"
    }
   },
   "cell_type": "code",
   "source": [
    "bool_x = False\n",
    "print(bool_x)"
   ],
   "id": "1c04d17545537538",
   "outputs": [
    {
     "name": "stdout",
     "output_type": "stream",
     "text": [
      "False\n"
     ]
    }
   ],
   "execution_count": 6
  },
  {
   "metadata": {},
   "cell_type": "markdown",
   "source": "## Get quotient and remainder of 20 divided by 3.",
   "id": "27240f0b811a20af"
  },
  {
   "metadata": {
    "ExecuteTime": {
     "end_time": "2025-07-10T19:42:00.233957Z",
     "start_time": "2025-07-10T19:42:00.231235Z"
    }
   },
   "cell_type": "code",
   "source": [
    "quotient = 20 // 3\n",
    "remainder = 20 % 3\n",
    "division_x = 20/3\n",
    "print (\"Quotient is \" ,quotient)\n",
    "print (\"Remainder is \" ,remainder)\n",
    "print(division_x)"
   ],
   "id": "509664e3b5f1cdb8",
   "outputs": [
    {
     "name": "stdout",
     "output_type": "stream",
     "text": [
      "Quotient is  6\n",
      "Remainder is  2\n",
      "6.666666666666667\n"
     ]
    }
   ],
   "execution_count": 10
  },
  {
   "metadata": {},
   "cell_type": "markdown",
   "source": "## Difference between \"3\" and 3",
   "id": "4c091f3e4dfa3adc"
  },
  {
   "metadata": {
    "ExecuteTime": {
     "end_time": "2025-07-10T19:46:11.605487Z",
     "start_time": "2025-07-10T19:46:11.601075Z"
    }
   },
   "cell_type": "code",
   "source": [
    "a = int(\"3\")\n",
    "b = 3"
   ],
   "id": "4960bebacb7ff4b1",
   "outputs": [
    {
     "data": {
      "text/plain": [
       "1.0"
      ]
     },
     "execution_count": 14,
     "metadata": {},
     "output_type": "execute_result"
    }
   ],
   "execution_count": 14
  },
  {
   "metadata": {},
   "cell_type": "markdown",
   "source": "## type() function to see what the variable is",
   "id": "90aacf3207375336"
  },
  {
   "metadata": {
    "ExecuteTime": {
     "end_time": "2025-07-10T19:49:08.672121Z",
     "start_time": "2025-07-10T19:49:08.669275Z"
    }
   },
   "cell_type": "code",
   "source": [
    "a = \"3\"\n",
    "print(type(a))\n",
    "print(type(b))"
   ],
   "id": "1fb679ea7519a37f",
   "outputs": [
    {
     "name": "stdout",
     "output_type": "stream",
     "text": [
      "<class 'str'>\n",
      "<class 'int'>\n"
     ]
    }
   ],
   "execution_count": 17
  },
  {
   "metadata": {},
   "cell_type": "markdown",
   "source": "## Math Commands",
   "id": "83d6fc79775c1b49"
  },
  {
   "metadata": {
    "ExecuteTime": {
     "end_time": "2025-07-10T19:50:59.315934Z",
     "start_time": "2025-07-10T19:50:59.313029Z"
    }
   },
   "cell_type": "code",
   "source": [
    "print(abs(-10))\n",
    "print(max([1,2,3]))\n",
    "\n",
    "round (number + 0.5)  # Round up\n",
    "round (number -0.5)  # Round down\n"
   ],
   "id": "495d9734bb905697",
   "outputs": [
    {
     "name": "stdout",
     "output_type": "stream",
     "text": [
      "10\n",
      "3\n"
     ]
    }
   ],
   "execution_count": 19
  },
  {
   "metadata": {},
   "cell_type": "markdown",
   "source": "## How to use string",
   "id": "a2feca7478a0aece"
  },
  {
   "metadata": {
    "ExecuteTime": {
     "end_time": "2025-07-10T19:57:42.927940Z",
     "start_time": "2025-07-10T19:57:42.924564Z"
    }
   },
   "cell_type": "code",
   "source": [
    "single_quote = 'Singlequote'\n",
    "print(single_quote)\n",
    "\n",
    "# The case of pringting double quoetation mark\n",
    "mix_print = 'This is double quotation \"abcde\"'\n",
    "print(mix_print)\n"
   ],
   "id": "1aae3fd498c03c77",
   "outputs": [
    {
     "name": "stdout",
     "output_type": "stream",
     "text": [
      "Singlequote\n",
      "This is double quotation \"abcde\"\n"
     ]
    }
   ],
   "execution_count": 25
  },
  {
   "metadata": {},
   "cell_type": "markdown",
   "source": "### Multi-line string",
   "id": "ca36751a9f0d64df"
  },
  {
   "metadata": {
    "ExecuteTime": {
     "end_time": "2025-07-10T19:59:31.792181Z",
     "start_time": "2025-07-10T19:59:31.789069Z"
    }
   },
   "cell_type": "code",
   "source": [
    "multi_str = \"\"\"\n",
    "A is the 1st line\n",
    "B is the 2nd line\n",
    "C is the 3rd line\n",
    "  D is the 4th line\n",
    "    E is the 5th line\n",
    "\n",
    "\"\"\"\n",
    "\n",
    "print(multi_str)"
   ],
   "id": "bfd3f704ea59f75c",
   "outputs": [
    {
     "name": "stdout",
     "output_type": "stream",
     "text": [
      "\n",
      "A is the 1st line\n",
      "B is the 2nd line\n",
      "C is the 3rd line\n",
      "  D is the 4th line\n",
      "    E is the 5th line\n",
      "\n",
      "\n"
     ]
    }
   ],
   "execution_count": 27
  },
  {
   "metadata": {},
   "cell_type": "markdown",
   "source": "## Print Letters",
   "id": "95db774236607563"
  },
  {
   "metadata": {
    "ExecuteTime": {
     "end_time": "2025-07-10T20:01:56.669844Z",
     "start_time": "2025-07-10T20:01:56.666399Z"
    }
   },
   "cell_type": "code",
   "source": [
    "print(single_quote)\n",
    "print(single_quote[2])  # Print the first letter"
   ],
   "id": "343c0d3144e5c258",
   "outputs": [
    {
     "name": "stdout",
     "output_type": "stream",
     "text": [
      "Singlequote\n",
      "n\n"
     ]
    }
   ],
   "execution_count": 30
  },
  {
   "metadata": {},
   "cell_type": "markdown",
   "source": "## Count letters in a string variable",
   "id": "17b2c2609114df4b"
  },
  {
   "metadata": {
    "ExecuteTime": {
     "end_time": "2025-07-10T20:02:53.101321Z",
     "start_time": "2025-07-10T20:02:53.097948Z"
    }
   },
   "cell_type": "code",
   "source": [
    "print(single_quote)\n",
    "len(single_quote)"
   ],
   "id": "220c23bac638cabd",
   "outputs": [
    {
     "name": "stdout",
     "output_type": "stream",
     "text": [
      "Singlequote\n"
     ]
    },
    {
     "data": {
      "text/plain": [
       "11"
      ]
     },
     "execution_count": 32,
     "metadata": {},
     "output_type": "execute_result"
    }
   ],
   "execution_count": 32
  },
  {
   "metadata": {},
   "cell_type": "markdown",
   "source": "## in : operator to Check word or letter in a string variable",
   "id": "f97c08cf93ca0ae7"
  },
  {
   "metadata": {
    "ExecuteTime": {
     "end_time": "2025-07-10T20:04:39.984692Z",
     "start_time": "2025-07-10T20:04:39.981801Z"
    }
   },
   "cell_type": "code",
   "source": "print(\"Singles\" in single_quote)  # Check if \"Single\" is in single_quote)",
   "id": "3d10934839b7762b",
   "outputs": [
    {
     "name": "stdout",
     "output_type": "stream",
     "text": [
      "False\n"
     ]
    }
   ],
   "execution_count": 35
  },
  {
   "metadata": {},
   "cell_type": "markdown",
   "source": "## Slicing string",
   "id": "27fa87ac4dba4bb4"
  },
  {
   "metadata": {
    "ExecuteTime": {
     "end_time": "2025-07-10T20:09:50.172391Z",
     "start_time": "2025-07-10T20:09:50.168980Z"
    }
   },
   "cell_type": "code",
   "source": [
    "ex_str = \"0123456789\"\n",
    "print(ex_str[3:6])  # Print from 3rd to 5th letter\n",
    "print(ex_str[:5])  # Print from the start to the 5th letter\n",
    "print(ex_str[6:])  # Print from 6th letter to the end\n",
    "print(ex_str[-3:-1])  # Print from the 3rd last letter to the 2nd last letter"
   ],
   "id": "558d2ccf46cee08b",
   "outputs": [
    {
     "name": "stdout",
     "output_type": "stream",
     "text": [
      "345\n",
      "01234\n",
      "6789\n",
      "78\n"
     ]
    }
   ],
   "execution_count": 42
  },
  {
   "metadata": {},
   "cell_type": "markdown",
   "source": "",
   "id": "1e0a8e5297d8270"
  },
  {
   "metadata": {},
   "cell_type": "markdown",
   "source": "## Modify string",
   "id": "d949a00e125fb0c1"
  },
  {
   "metadata": {
    "ExecuteTime": {
     "end_time": "2025-07-10T20:18:32.355303Z",
     "start_time": "2025-07-10T20:18:32.352296Z"
    }
   },
   "cell_type": "code",
   "source": [
    "a = \" Hello, H World! \"\n",
    "print(a.upper())\n",
    "print(a.lower())\n",
    "print(a.strip())\n",
    "print(a.replace(\"H\",\"J\"))  # Replace \"H\" with \"J\"\n",
    "\n",
    "b=\"Hello,World\"\n",
    "print(b.split(\",\"))  # Split the string by comma\n",
    "\n",
    "a = \"Hello\"\n",
    "b = \"World\"\n",
    "c= a+b\n",
    "print(c)  # Concatenate two strings\n",
    "\n",
    "c= a+\" \"+b\n",
    "print(c)"
   ],
   "id": "826d97785e5a6d6f",
   "outputs": [
    {
     "name": "stdout",
     "output_type": "stream",
     "text": [
      " HELLO, H WORLD! \n",
      " hello, h world! \n",
      "Hello, H World!\n",
      " Jello, J World! \n",
      "['Hello', 'World']\n",
      "HelloWorld\n",
      "Hello World\n"
     ]
    }
   ],
   "execution_count": 57
  },
  {
   "metadata": {},
   "cell_type": "markdown",
   "source": "",
   "id": "9ba22271ac48739a"
  },
  {
   "metadata": {},
   "cell_type": "markdown",
   "source": "## String Formatting",
   "id": "fdcfcf3826e09c5a"
  },
  {
   "metadata": {
    "ExecuteTime": {
     "end_time": "2025-07-10T20:21:39.924956Z",
     "start_time": "2025-07-10T20:21:39.921926Z"
    }
   },
   "cell_type": "code",
   "source": [
    "age = 20\n",
    "full_sen = \"My age is \" + str(age) + \".\"\n",
    "print(full_sen)"
   ],
   "id": "65e3267e97db7d72",
   "outputs": [
    {
     "name": "stdout",
     "output_type": "stream",
     "text": [
      "My age is 20.\n"
     ]
    }
   ],
   "execution_count": 61
  },
  {
   "metadata": {},
   "cell_type": "markdown",
   "source": "## Formatting with f-string",
   "id": "187ff20275a63882"
  },
  {
   "metadata": {
    "ExecuteTime": {
     "end_time": "2025-07-10T20:24:02.614195Z",
     "start_time": "2025-07-10T20:24:02.611541Z"
    }
   },
   "cell_type": "code",
   "source": [
    "print(f\"My age is {age}.\")\n",
    "print(f\"My doubled is {age * 2}.\")"
   ],
   "id": "3a29c38c18a0bf6",
   "outputs": [
    {
     "name": "stdout",
     "output_type": "stream",
     "text": [
      "My age is 20.\n",
      "My doubled is 40.\n"
     ]
    }
   ],
   "execution_count": 64
  },
  {
   "metadata": {},
   "cell_type": "markdown",
   "source": "## Hard Return or Carrage Return",
   "id": "1b54e20783831024"
  },
  {
   "metadata": {
    "ExecuteTime": {
     "end_time": "2025-07-10T20:39:29.813304Z",
     "start_time": "2025-07-10T20:39:29.810221Z"
    }
   },
   "cell_type": "code",
   "source": "print(\"Hello\\nWorld\")   # \\n is a hard return",
   "id": "5cc2e9c94df5941f",
   "outputs": [
    {
     "name": "stdout",
     "output_type": "stream",
     "text": [
      "Hello\n",
      "World\n"
     ]
    }
   ],
   "execution_count": 65
  },
  {
   "metadata": {},
   "cell_type": "markdown",
   "source": "# Get the information using input() function",
   "id": "9f993226163a6fd5"
  },
  {
   "metadata": {
    "ExecuteTime": {
     "end_time": "2025-07-10T20:48:45.106405Z",
     "start_time": "2025-07-10T20:48:35.368002Z"
    }
   },
   "cell_type": "code",
   "source": [
    "f_name=input(\"Enter your first name: \")  # This will prompt the user to enter their name\n",
    "l_name=input(\"Enter your last name: \")  # This will prompt the user to enter their name\n",
    "year = input(\"What year you are in\")\n",
    "full_name =f_name+\" \"+l_name+\" in \"+year\n",
    "print(full_name.upper())\n",
    "\n",
    "print(f\"Add 1000 years to the year / ANS: {int(year)+1000}\")\n"
   ],
   "id": "75981f157c93b818",
   "outputs": [
    {
     "name": "stdout",
     "output_type": "stream",
     "text": [
      "CH L IN 2025\n",
      "Add 1000 years to the year / ANS: 3025\n"
     ]
    }
   ],
   "execution_count": 73
  },
  {
   "metadata": {},
   "cell_type": "markdown",
   "source": "# Looping Syntax",
   "id": "33c46a4b7ceabc5a"
  },
  {
   "metadata": {
    "ExecuteTime": {
     "end_time": "2025-07-10T20:56:21.240392Z",
     "start_time": "2025-07-10T20:56:21.237280Z"
    }
   },
   "cell_type": "code",
   "source": [
    "#for x in range(1,5):\n",
    "#    print(x)\n",
    "\n",
    "for x in range(1,5):\n",
    "    if x == 3:\n",
    "        print(f\"It is 3.\")\n",
    "    else:\n",
    "        print(x)\n",
    "\n",
    "\n",
    "#X_list = [\"A\",\"B\",\"C\",\"D\"]\n",
    "\n",
    "#for x in X_list:\n",
    "#    print(x)\n",
    "\n"
   ],
   "id": "57e2e41c4e1c96cc",
   "outputs": [
    {
     "name": "stdout",
     "output_type": "stream",
     "text": [
      "1\n",
      "2\n",
      "It is 3.\n",
      "4\n"
     ]
    }
   ],
   "execution_count": 77
  },
  {
   "metadata": {
    "ExecuteTime": {
     "end_time": "2025-07-10T21:04:32.399454Z",
     "start_time": "2025-07-10T21:04:30.950241Z"
    }
   },
   "cell_type": "code",
   "source": [
    "input_val=input(\"Show Factorial values: \")\n",
    "\n",
    "for x in range(1,int(input_val)+1):\n",
    "    if x == 1:\n",
    "        prev_x = 1\n",
    "    else:\n",
    "        prev_x = prev_x * x\n",
    "\n",
    "print(f\"Factorial of {x} is {prev_x}.\")\n",
    "\n"
   ],
   "id": "39e630eff8ef7f35",
   "outputs": [
    {
     "name": "stdout",
     "output_type": "stream",
     "text": [
      "Factorial of 5 is 120.\n"
     ]
    }
   ],
   "execution_count": 85
  },
  {
   "metadata": {
    "ExecuteTime": {
     "end_time": "2025-07-10T21:12:33.076057Z",
     "start_time": "2025-07-10T21:12:31.390661Z"
    }
   },
   "cell_type": "code",
   "source": [
    "input_val = input(\"Show Factorial values: \")\n",
    "x = 1\n",
    "\n",
    "# input_val = 5\n",
    "while x <= int(input_val):\n",
    "    if x == 1:\n",
    "        prev_x = 1\n",
    "    else:\n",
    "        prev_x = prev_x * x\n",
    "    x += 1  #Same as  x = x+1\n",
    "\n",
    "print(f\"Factorial of {x-1} is {prev_x}.\")\n"
   ],
   "id": "6858f6108262a895",
   "outputs": [
    {
     "name": "stdout",
     "output_type": "stream",
     "text": [
      "Factorial of 5 is 120.\n"
     ]
    }
   ],
   "execution_count": 86
  },
  {
   "metadata": {},
   "cell_type": "markdown",
   "source": "## How to use range() function",
   "id": "3a906c6f7baf3119"
  },
  {
   "metadata": {
    "ExecuteTime": {
     "end_time": "2025-07-10T21:20:20.830505Z",
     "start_time": "2025-07-10T21:20:20.826931Z"
    }
   },
   "cell_type": "code",
   "source": [
    "for x in range(5):\n",
    "    print(x)\n",
    "\n",
    "print()\n",
    "for x in range(5,10):\n",
    "    print(x)\n",
    "print()\n",
    "for x in range(1,20,3):\n",
    "    print(x)"
   ],
   "id": "1fb8d650100e414a",
   "outputs": [
    {
     "name": "stdout",
     "output_type": "stream",
     "text": [
      "0\n",
      "1\n",
      "2\n",
      "3\n",
      "4\n",
      "\n",
      "5\n",
      "6\n",
      "7\n",
      "8\n",
      "9\n",
      "\n",
      "1\n",
      "4\n",
      "7\n",
      "10\n",
      "13\n",
      "16\n",
      "19\n"
     ]
    }
   ],
   "execution_count": 91
  },
  {
   "metadata": {},
   "cell_type": "markdown",
   "source": "## How to express teenage years",
   "id": "30afff7bf1abdc3c"
  },
  {
   "metadata": {},
   "cell_type": "code",
   "outputs": [],
   "execution_count": null,
   "source": [
    "# Teenage years are from 13 to 19\n",
    "\n",
    "year >= 13 and year <= 19  # 13,14,15,16,17,18,19\n",
    "year >= 13 or year <= 19\n",
    "\n",
    "# 1) True or True\n",
    "13,14,15,16,17 ....\n",
    "19, 18, 17,.... 1\n",
    "\n",
    "# 2) Ture or False\n",
    "13,14,15,16,17 ....\n",
    "20, 21, 22, 23, 24,....\n",
    "\n",
    "# 3) False or True\n",
    "12,11,10,9,8,7,6,5,4,3,2,1\n",
    "19, 18, 17,.... 1\n",
    "\n"
   ],
   "id": "a38d05c6e8073808"
  }
 ],
 "metadata": {
  "kernelspec": {
   "display_name": "Python [conda env:base] *",
   "language": "python",
   "name": "conda-base-py"
  },
  "language_info": {
   "codemirror_mode": {
    "name": "ipython",
    "version": 2
   },
   "file_extension": ".py",
   "mimetype": "text/x-python",
   "name": "python",
   "nbconvert_exporter": "python",
   "pygments_lexer": "ipython2",
   "version": "2.7.6"
  }
 },
 "nbformat": 4,
 "nbformat_minor": 5
}
